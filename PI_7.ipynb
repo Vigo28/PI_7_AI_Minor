{
 "cells": [
  {
   "cell_type": "markdown",
   "id": "4ef14948",
   "metadata": {},
   "source": [
    "# PI 7 Deel 1 - Mijn Aanpak\n",
    "\n",
    "In deze opdracht werk ik aan het implementeren en aanpassen van een genetisch algoritme (GA). Ik gebruik de basiscode die is meegeleverd en onderzoek verschillende mogelijkheden voor de belangrijkste stappen van het algoritme: parentselectie, crossover en mutatie. Door relevante literatuur te bestuderen, maak ik onderbouwde keuzes voor de invulling van deze stappen en pas ik de code hierop aan.\n",
    "\n",
    "## Doel van de opdracht\n",
    "\n",
    "Het doel is om inzicht te krijgen in de flexibiliteit van genetische algoritmes en te leren hoe verschillende keuzes invloed hebben op de prestaties van het algoritme voor een specifiek probleem. Door te experimenteren met verschillende methoden voor selectie, crossover en mutatie, kan ik bepalen welke aanpak het beste werkt voor deze opdracht.\n",
    "\n",
    "## Mijn werkwijze\n",
    "\n",
    "- **Literatuurstudie:** Ik heb verschillende methoden voor selectie, crossover en mutatie onderzocht.\n",
    "- **Keuze en implementatie:** Op basis van mijn bevindingen heb ik keuzes gemaakt en deze geïmplementeerd in de code.\n",
    "- **Evaluatie:** Ik heb de prestaties van het algoritme geëvalueerd en mijn keuzes waar nodig aangepast."
   ]
  },
  {
   "cell_type": "code",
   "execution_count": 385,
   "id": "4df356e8",
   "metadata": {},
   "outputs": [],
   "source": [
    "import random\n",
    "import math\n",
    "import pandas as pd"
   ]
  },
  {
   "cell_type": "code",
   "execution_count": 386,
   "id": "d143e54a",
   "metadata": {},
   "outputs": [
    {
     "name": "stdout",
     "output_type": "stream",
     "text": [
      "\n",
      "Voor sorteren:\n",
      "      id  deadline  profit\n",
      "0     95         6     100\n",
      "1     23        10     100\n",
      "2    155         6      99\n",
      "3     57         2      97\n",
      "4    162         8      97\n",
      "..   ...       ...     ...\n",
      "195   63         8       3\n",
      "196  118         3       2\n",
      "197   55         2       1\n",
      "198  181         3       1\n",
      "199   15        10       1\n",
      "\n",
      "[200 rows x 3 columns]\n",
      "\n",
      "Na sorteren:\n",
      "      id  deadline  profit\n",
      "0     95         6     100\n",
      "1     23        10     100\n",
      "2    155         6      99\n",
      "3     57         2      97\n",
      "4    162         8      97\n",
      "..   ...       ...     ...\n",
      "195   63         8       3\n",
      "196  118         3       2\n",
      "197   55         2       1\n",
      "198  181         3       1\n",
      "199   15        10       1\n",
      "\n",
      "[200 rows x 3 columns]\n"
     ]
    }
   ],
   "source": [
    "df = pd.read_csv('pi-7-voorbeeld-dataset.csv') # Importeren van dataset\n",
    "print(\"\\nVoor sorteren:\")\n",
    "print(df)\n",
    "\n",
    "df.sort_values(by=['profit'], ascending=False) # Sorteren van dataset op kolom 'profit'\n",
    "\n",
    "print(\"\\nNa sorteren:\")\n",
    "print(df)"
   ]
  },
  {
   "cell_type": "markdown",
   "id": "daaf9125",
   "metadata": {},
   "source": [
    "### Initialisatie van de populatie\n",
    "\n",
    "De functie maakt een **initiële populatie**:  \n",
    "- `initialise_population`: genereert `n_pop` willekeurige permutaties van `0..n_jobs-1`  \n",
    "- Parameters (`N_POP`, `N_JOBS`, `N_ITERS`, `MUTATION_RATE`) stellen de GA in  \n",
    "- Daarna wordt de populatie aangemaakt en geprint"
   ]
  },
  {
   "cell_type": "code",
   "execution_count": null,
   "id": "a047ff65",
   "metadata": {},
   "outputs": [],
   "source": [
    "def initialise_population(n_pop, n_jobs):\n",
    "    # Genereer n_pop lijsten, elk een willekeurige volgorde van 0..n_jobs-1\n",
    "    return [random.sample(range(n_jobs), n_jobs) for i in range(n_pop)]\n",
    "\n",
    "def fitness(solution, df):\n",
    "    n = len(df)\n",
    "    deadlines = df['deadline'].tolist()\n",
    "    profits = df['profit'].tolist()\n",
    "    schedule = [None] * n  # hierin komt welke job per slot\n",
    "    for job in solution:\n",
    "        deadline = min(deadlines[job], n)  # max n\n",
    "        # zoek het laatste vrije slot vóór de deadline\n",
    "        while deadline > 0 and schedule[deadline-1] is not None:\n",
    "            deadline -= 1\n",
    "        if deadline > 0:\n",
    "            schedule[deadline-1] = job\n",
    "    # tel de winst op van alle geplande jobs\n",
    "    total_profit = sum(profits[j] for j in schedule if j is not None)\n",
    "    return total_profit\n",
    "\n",
    "def evaluate(population, df):\n",
    "    return [fitness(sol, df) for sol in population]\n",
    "\n",
    "def parent_selection(population, fitness_scores):\n",
    "    total_fitness = sum(fitness_scores)\n",
    "    selection_probs = [f / total_fitness for f in fitness_scores]\n",
    "    parents = random.choices(population, weights=selection_probs, k=2)\n",
    "    return parents\n",
    "\n",
    "def single_point_crossover(parents):\n",
    "    p1 = parents[0]\n",
    "    p2 = parents[1]\n",
    "    # Bepaal cutoff point\n",
    "    cutoff = random.randint(0, len(df)-1)\n",
    "    c1 = p1[:cutoff] + p2[cutoff:]\n",
    "    c2 = p2[:cutoff] + p1[cutoff:]\n",
    "    return c1, c2"
   ]
  },
  {
   "cell_type": "code",
   "execution_count": null,
   "id": "18ff82d1",
   "metadata": {},
   "outputs": [
    {
     "name": "stdout",
     "output_type": "stream",
     "text": [
      "[[33, 138, 5, 35, 12, 36, 26, 1, 191, 125, 118, 18, 65, 15, 11, 73, 155, 106, 137, 77, 165, 162, 56, 99, 167, 98, 53, 144, 192, 150, 42, 79, 188, 24, 52, 21, 195, 143, 20, 54, 25, 190, 66, 80, 198, 130, 176, 127, 182, 81, 40, 0, 31, 93, 149, 152, 61, 43, 141, 169, 44, 121, 9, 48, 84, 55, 92, 100, 178, 69, 94, 115, 128, 161, 110, 51, 70, 189, 183, 23, 145, 197, 112, 16, 29, 158, 4, 120, 104, 76, 135, 8, 186, 38, 72, 184, 148, 17, 196, 57, 146, 124, 126, 27, 139, 39, 163, 3, 22, 166, 32, 180, 102, 123, 30, 173, 87, 107, 71, 90, 172, 116, 58, 103, 14, 19, 41, 193, 171, 170, 6, 59, 134, 140, 117, 74, 47, 156, 129, 89, 181, 157, 28, 68, 194, 151, 105, 164, 179, 83, 96, 119, 60, 34, 199, 174, 49, 86, 45, 85, 37, 50, 10, 64, 142, 78, 7, 82, 131, 46, 185, 132, 122, 13, 101, 114, 109, 177, 113, 2, 133, 63, 187, 136, 168, 108, 111, 154, 88, 67, 97, 159, 95, 75, 147, 91, 153, 175, 62, 160], [131, 103, 5, 0, 4, 45, 84, 97, 55, 18, 82, 113, 139, 60, 135, 178, 67, 19, 166, 170, 199, 158, 179, 112, 25, 109, 157, 152, 38, 21, 163, 42, 44, 79, 133, 130, 197, 14, 192, 2, 173, 8, 124, 59, 140, 3, 77, 90, 121, 92, 32, 137, 132, 15, 64, 120, 33, 49, 16, 11, 36, 34, 20, 50, 54, 153, 193, 43, 146, 141, 194, 154, 108, 159, 26, 196, 35, 138, 101, 171, 58, 180, 191, 142, 70, 75, 73, 89, 136, 144, 85, 156, 145, 128, 29, 174, 30, 56, 169, 150, 23, 187, 13, 41, 40, 177, 106, 111, 175, 114, 117, 88, 100, 148, 123, 1, 143, 98, 125, 104, 172, 162, 160, 72, 183, 129, 105, 83, 118, 181, 68, 7, 119, 93, 53, 9, 127, 122, 62, 182, 190, 86, 81, 94, 80, 99, 12, 186, 10, 65, 155, 48, 189, 102, 91, 47, 161, 22, 149, 115, 27, 165, 71, 69, 110, 134, 74, 87, 52, 76, 107, 63, 46, 164, 61, 147, 66, 28, 184, 116, 95, 185, 31, 39, 17, 198, 167, 24, 96, 37, 57, 78, 176, 151, 51, 195, 188, 126, 168, 6]]\n",
      "([33, 138, 5, 35, 12, 36, 26, 1, 191, 125, 118, 18, 65, 15, 11, 73, 155, 106, 137, 77, 165, 162, 56, 99, 167, 98, 53, 144, 192, 150, 42, 79, 188, 24, 52, 21, 195, 143, 20, 54, 25, 190, 66, 80, 198, 130, 176, 127, 182, 81, 40, 0, 31, 93, 149, 152, 61, 43, 141, 169, 44, 121, 9, 48, 84, 55, 92, 100, 178, 69, 94, 115, 128, 161, 110, 51, 70, 189, 183, 23, 145, 197, 112, 16, 29, 158, 4, 120, 104, 76, 135, 8, 186, 38, 72, 184, 148, 17, 196, 57, 146, 124, 126, 27, 139, 39, 163, 3, 22, 166, 32, 180, 102, 123, 30, 173, 87, 107, 71, 90, 172, 116, 58, 103, 14, 19, 41, 193, 171, 170, 6, 59, 134, 140, 117, 74, 47, 156, 129, 89, 181, 157, 28, 68, 194, 151, 105, 164, 179, 83, 96, 119, 60, 34, 199, 174, 49, 86, 45, 85, 37, 50, 10, 64, 142, 78, 7, 82, 131, 46, 185, 132, 122, 13, 101, 114, 109, 177, 113, 2, 133, 63, 187, 136, 168, 108, 111, 154, 88, 67, 97, 159, 95, 75, 147, 91, 153, 175, 62, 6], [131, 103, 5, 0, 4, 45, 84, 97, 55, 18, 82, 113, 139, 60, 135, 178, 67, 19, 166, 170, 199, 158, 179, 112, 25, 109, 157, 152, 38, 21, 163, 42, 44, 79, 133, 130, 197, 14, 192, 2, 173, 8, 124, 59, 140, 3, 77, 90, 121, 92, 32, 137, 132, 15, 64, 120, 33, 49, 16, 11, 36, 34, 20, 50, 54, 153, 193, 43, 146, 141, 194, 154, 108, 159, 26, 196, 35, 138, 101, 171, 58, 180, 191, 142, 70, 75, 73, 89, 136, 144, 85, 156, 145, 128, 29, 174, 30, 56, 169, 150, 23, 187, 13, 41, 40, 177, 106, 111, 175, 114, 117, 88, 100, 148, 123, 1, 143, 98, 125, 104, 172, 162, 160, 72, 183, 129, 105, 83, 118, 181, 68, 7, 119, 93, 53, 9, 127, 122, 62, 182, 190, 86, 81, 94, 80, 99, 12, 186, 10, 65, 155, 48, 189, 102, 91, 47, 161, 22, 149, 115, 27, 165, 71, 69, 110, 134, 74, 87, 52, 76, 107, 63, 46, 164, 61, 147, 66, 28, 184, 116, 95, 185, 31, 39, 17, 198, 167, 24, 96, 37, 57, 78, 176, 151, 51, 195, 188, 126, 168, 160])\n"
     ]
    }
   ],
   "source": [
    "# GA parameters\n",
    "N_POP = 100\n",
    "N_JOBS = len(df)\n",
    "N_ITERS = 20\n",
    "MUTATION_RATE = 0.1\n",
    "\n",
    "# Maak populatie aan (lijst van n_pop willekeurige volgorde van n_jobs)\n",
    "population = initialise_population(N_POP, N_JOBS)\n",
    "\n",
    "fitness_scores = evaluate(population, df)\n",
    "\n",
    "parents = parent_selection(population, fitness_scores)\n",
    "childern = single_point_crossover(parents)\n"
   ]
  }
 ],
 "metadata": {
  "kernelspec": {
   "display_name": ".venv",
   "language": "python",
   "name": "python3"
  },
  "language_info": {
   "codemirror_mode": {
    "name": "ipython",
    "version": 3
   },
   "file_extension": ".py",
   "mimetype": "text/x-python",
   "name": "python",
   "nbconvert_exporter": "python",
   "pygments_lexer": "ipython3",
   "version": "3.12.1"
  }
 },
 "nbformat": 4,
 "nbformat_minor": 5
}
