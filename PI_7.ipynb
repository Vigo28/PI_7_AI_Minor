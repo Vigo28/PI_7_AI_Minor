{
 "cells": [
  {
   "cell_type": "markdown",
   "id": "0cc68d4f",
   "metadata": {},
   "source": [
    "# Genetic Algorithm voor Job Sequencing (PI7)\n",
    "\n",
    "**Doel:**  \n",
    "In dit notebook wordt een genetisch algoritme (GA) geïmplementeerd voor het *job sequencing problem*.  \n",
    "Het probleem bestaat uit het vinden van een optimale of bijna-optimale volgorde van taken (jobs) zodat \n",
    "de doelfunctie – bijvoorbeeld totale winst of doorlooptijd – zo goed mogelijk wordt geoptimaliseerd.  \n",
    "\n",
    "Op basis van eerder uitgevoerd onderzoek zijn keuzes gemaakt voor:\n",
    "- **Parent selection**\n",
    "- **Crossover**\n",
    "- **Mutatie**\n",
    "\n",
    "Daarnaast worden combinaties van populatiegrootte, mutatiegraad en aantal iteraties geëvalueerd \n",
    "om de prestaties van het algoritme in kaart te brengen.\n"
   ]
  },
  {
   "cell_type": "markdown",
   "id": "343fca6b",
   "metadata": {},
   "source": [
    "## Imports\n",
    "\n",
    "Voor de implementatie van het genetisch algoritme worden de volgende libraries gebruikt"
   ]
  },
  {
   "cell_type": "code",
   "execution_count": 298,
   "id": "4df356e8",
   "metadata": {},
   "outputs": [],
   "source": [
    "import random\n",
    "import pandas as pd\n",
    "import numpy as np\n",
    "import matplotlib.pyplot as plt\n",
    "import time"
   ]
  },
  {
   "cell_type": "markdown",
   "id": "c2401ec2",
   "metadata": {},
   "source": [
    "## Dataset inladen en voorbereiden\n",
    "\n",
    "De dataset met jobs wordt ingeladen vanuit een CSV-bestand.  \n",
    "Elke rij stelt een job voor met eigenschappen zoals winst (*profit*).  \n",
    "\n",
    "- Als de dataset geen `id`-kolom bevat, wordt de rijindex gebruikt als unieke job-ID.  \n",
    "- Daarna wordt een nieuwe kolom `job_id` toegevoegd om de jobs eenduidig te identificeren.  \n",
    "- Tot slot wordt de dataset gesorteerd op aflopende winst (`profit`) en wordt de index opnieuw ingesteld.\n"
   ]
  },
  {
   "cell_type": "code",
   "execution_count": 299,
   "id": "d143e54a",
   "metadata": {},
   "outputs": [],
   "source": [
    "df = pd.read_csv('pi-7-voorbeeld-dataset.csv')  # Importeren van dataset\n",
    "\n",
    "# bewaar originele id (als CSV geen id-kolom heeft, gebruik rijindex)\n",
    "if 'id' not in df.columns:\n",
    "    df['job_id'] = df.index  # of use df.index+1 voor 1-based ids\n",
    "else:\n",
    "    df['job_id'] = df['id']\n",
    "\n",
    "df = df.sort_values(by=['profit'], ascending=False).reset_index(drop=True)"
   ]
  },
  {
   "cell_type": "markdown",
   "id": "daaf9125",
   "metadata": {},
   "source": [
    "## Functies voor het genetisch algoritme\n",
    "\n",
    "Hier worden de verschillende onderdelen van het genetisch algoritme gedefinieerd:\n",
    "\n",
    "- **`initialise_population`**: maakt de startpopulatie aan met willekeurige permutaties van jobs.  \n",
    "- **`fitness`**: berekent de totale winst van een oplossing door jobs in te plannen volgens hun deadline.  \n",
    "- **`evaluate`**: past de fitnessfunctie toe op de hele populatie.  \n",
    "- **`parent_selection`**: selecteert twee ouders op basis van roulette wheel selectie (kans evenredig aan fitness).  \n",
    "- **`order_crossover`**: voert *Order Crossover (OX)* uit, zodat nakomelingen geldige permutaties blijven.  \n",
    "- **`mutate_swap`**: voert swap mutatie uit met een bepaalde kans (twee jobs wisselen van plaats).  \n",
    "- **`print_schedule`**: toont het ingeplande schema van een oplossing, inclusief job-ID’s, winst en deadlines.\n"
   ]
  },
  {
   "cell_type": "code",
   "execution_count": 300,
   "id": "a047ff65",
   "metadata": {},
   "outputs": [],
   "source": [
    "def initialise_population(n_pop, n_jobs):\n",
    "    # Genereer n_pop willekeurige permutaties van n_jobs\n",
    "    # Elke permutatie is één mogelijke volgorde van jobs\n",
    "    return [random.sample(range(n_jobs), n_jobs) for i in range(n_pop)]\n",
    "\n",
    "def fitness(solution, df):\n",
    "    n = len(df)\n",
    "    deadlines = df['deadline'].tolist()\n",
    "    profits = df['profit'].tolist()\n",
    "    schedule = [None] * n  # lijst om jobs in tijdslots te plaatsen\n",
    "\n",
    "    for job in solution:\n",
    "        # Plan job in het laatste vrije slot vóór de deadline\n",
    "        deadline = min(deadlines[job], n)  # max n\n",
    "        while deadline > 0 and schedule[deadline-1] is not None:\n",
    "            deadline -= 1\n",
    "        if deadline > 0:\n",
    "            schedule[deadline-1] = job\n",
    "\n",
    "    # Bereken totale winst van alle geplande jobs\n",
    "    total_profit = sum(profits[j] for j in schedule if j is not None)\n",
    "    return total_profit\n",
    "\n",
    "def evaluate(population, df):\n",
    "    # Bereken fitness voor elke oplossing in de populatie\n",
    "    return [fitness(sol, df) for sol in population]\n",
    "\n",
    "def parent_selection(population, fitness_scores):\n",
    "    total_fitness = sum(fitness_scores)\n",
    "    if total_fitness <= 0:\n",
    "        # Fallback: kies twee willekeurige ouders als alle fitness <= 0\n",
    "        return random.sample(population, 2)\n",
    "    # Bereken selectie-kansen proportioneel aan fitness\n",
    "    selection_probs = [f / total_fitness for f in fitness_scores]\n",
    "    # Kies 2 ouders op basis van gewichten\n",
    "    parents = random.choices(population, weights=selection_probs, k=2)\n",
    "    return parents\n",
    "\n",
    "def order_crossover(parents):\n",
    "    # Order Crossover (OX) voor permutaties\n",
    "    p1, p2 = parents[0], parents[1]\n",
    "    n = len(p1)\n",
    "    a, b = sorted(random.sample(range(n), 2))  # kies crossoversegment\n",
    "    child1 = [-1]*n\n",
    "    child1[a:b+1] = p1[a:b+1]  # kopieer segment van ouder 1\n",
    "\n",
    "    fill = (b+1) % n\n",
    "    for i in range(n):\n",
    "        gene = p2[(b+1+i) % n]\n",
    "        if gene not in child1:\n",
    "            child1[fill] = gene\n",
    "            fill = (fill+1) % n\n",
    "\n",
    "    child2 = [-1]*n\n",
    "    child2[a:b+1] = p2[a:b+1]  # kopieer segment van ouder 2\n",
    "\n",
    "    fill = (b+1) % n\n",
    "    for i in range(n):\n",
    "        gene = p1[(b+1+i) % n]\n",
    "        if gene not in child2:\n",
    "            child2[fill] = gene\n",
    "            fill = (fill+1) % n\n",
    "\n",
    "    return child1, child2\n",
    "\n",
    "def mutate_swap(individual, rate):\n",
    "    # Swap mutatie: verwissel twee willekeurige posities met kans 'rate'\n",
    "    if random.random() < rate:\n",
    "        m1, m2 = random.sample(range(len(individual)), 2)\n",
    "        individual[m1], individual[m2] = individual[m2], individual[m1]\n",
    "    return individual\n",
    "\n",
    "def print_schedule(solution, df):\n",
    "    n = len(df)\n",
    "    deadlines = df['deadline'].tolist()\n",
    "    schedule = [None] * n  # lijst van tijdslots\n",
    "\n",
    "    for job in solution:\n",
    "        # Plan job in het laatste vrije slot vóór deadline\n",
    "        deadline = min(deadlines[job], n)\n",
    "        while deadline > 0 and schedule[deadline-1] is not None:\n",
    "            deadline -= 1\n",
    "        if deadline > 0:\n",
    "            schedule[deadline-1] = job\n",
    "\n",
    "    total_profit = 0\n",
    "    print(\"\\nBeste schedule per tijdslot:\")\n",
    "    for slot, job in enumerate(schedule, start=1):\n",
    "        if job is not None:\n",
    "            profit = float(df.loc[job,'profit'])\n",
    "            deadline = int(df.loc[job,'deadline'])\n",
    "            job_id = int(df.loc[job,'job_id'])\n",
    "            total_profit += profit\n",
    "            print(f\"Slot {slot}: job_id={job_id}, profit={profit}, deadline={deadline}\")\n",
    "\n",
    "    print(f\"\\n>>> Totale profit = {total_profit}\")\n"
   ]
  },
  {
   "cell_type": "markdown",
   "id": "2b3a9009",
   "metadata": {},
   "source": [
    "## Hoofdalgoritme: `run_ga`\n",
    "\n",
    "Deze functie voert het genetisch algoritme uit voor het job sequencing probleem.\n",
    "\n",
    "- **Initialisatie**: maak een startpopulatie met willekeurige oplossingen.  \n",
    "- **Iteraties**: herhaal voor het opgegeven aantal iteraties:\n",
    "  - Bereken de fitness van de populatie.\n",
    "  - Houd de beste score tot nu toe bij (*best_so_far* en *history_best*).  \n",
    "  - Genereer een nieuwe populatie via:\n",
    "    - ouderselectie (`parent_selection`),\n",
    "    - crossover (`order_crossover`),\n",
    "    - mutatie (`mutate_swap`).\n",
    "  - Update de beste oplossing als er een betere wordt gevonden.  \n",
    "- **Output**: geeft de beste score, het beste individu en de voortgangsgeschiedenis (*history_best*) terug.\n",
    "\n",
    "Met de parameter `print_every` kan optioneel voortgang op het scherm worden weergegeven.\n"
   ]
  },
  {
   "cell_type": "code",
   "execution_count": 301,
   "id": "6dee3c76",
   "metadata": {},
   "outputs": [],
   "source": [
    "def run_ga(df, n_pop, mutation_rate, n_iters, print_every=20):\n",
    "    n_jobs = len(df)\n",
    "    # Initialiseer populatie met willekeurige oplossingen\n",
    "    population = initialise_population(n_pop, n_jobs)\n",
    "\n",
    "    best_score = -float('inf')  # beste score over alle iteraties\n",
    "    best_ind = None              # beste oplossing over alle iteraties\n",
    "    best_so_far = -float('inf')  # beste score tot nu toe in huidige run\n",
    "    history_best = []            # lijst om voortgang bij te houden\n",
    "\n",
    "    for it in range(1, n_iters + 1):\n",
    "        # Bereken fitness van de huidige populatie\n",
    "        fitness_scores = evaluate(population, df)\n",
    "        best_iter = max(fitness_scores)\n",
    "        if best_iter > best_so_far:\n",
    "            best_so_far = best_iter\n",
    "        history_best.append(best_so_far)  # sla voortgang op\n",
    "\n",
    "        # Genereer nieuwe populatie via selectie, crossover en mutatie\n",
    "        new_pop = []\n",
    "        while len(new_pop) < n_pop:\n",
    "            parents = parent_selection(population, fitness_scores)  # selecteer ouders\n",
    "            c1, c2 = order_crossover(parents)                        # crossover\n",
    "            new_pop.append(mutate_swap(c1, mutation_rate))           # mutatie kind 1\n",
    "            if len(new_pop) < n_pop:\n",
    "                new_pop.append(mutate_swap(c2, mutation_rate))       # mutatie kind 2\n",
    "\n",
    "        population = new_pop\n",
    "        fitness_scores = evaluate(population, df)  # update fitness na nieuwe populatie\n",
    "\n",
    "        # Update beste oplossing over alle iteraties\n",
    "        idx_best = max(range(len(population)), key=lambda i: fitness_scores[i])\n",
    "        if fitness_scores[idx_best] > best_score:\n",
    "            best_score = fitness_scores[idx_best]\n",
    "            best_ind = population[idx_best].copy()\n",
    "\n",
    "        # Optioneel printen van voortgang\n",
    "        if print_every > 0 and (it == 1 or it % print_every == 0):\n",
    "            print(f\"Iter {it}/{n_iters} best score: {best_score}\")\n",
    "\n",
    "    # Return beste score, bijbehorende oplossing en historie van best scores\n",
    "    return best_score, best_ind, history_best"
   ]
  },
  {
   "cell_type": "markdown",
   "id": "c124ef7b",
   "metadata": {},
   "source": [
    "## Parameter sweep en evaluatie\n",
    "\n",
    "Om de invloed van verschillende parameters op de prestaties van het genetisch algoritme te onderzoeken,\n",
    "wordt een grid search uitgevoerd over:\n",
    "\n",
    "- **Populatiegroottes**: [20, 50, 100, 200]  \n",
    "- **Mutatiekansen**: [0.01, 0.05, 0.1, 0.3]  \n",
    "- **Aantal iteraties**: [50, 100, 200, 400]  \n",
    "- **Herhalingen**: 2 runs per configuratie voor robuustere gemiddelden  \n",
    "\n",
    "Voor elke configuratie wordt bijgehouden:\n",
    "- gemiddelde score en standaardafwijking,  \n",
    "- beste behaalde score,  \n",
    "- gemiddelde rekentijd.  \n",
    "\n",
    "De beste configuratie op basis van gemiddelde score wordt gerapporteerd, samen met de beste individuele run.\n",
    "Daarnaast wordt het schedule van de beste run weergegeven om te controleren dat de oplossing realistisch is.\n"
   ]
  },
  {
   "cell_type": "code",
   "execution_count": 302,
   "id": "4e62ae78",
   "metadata": {},
   "outputs": [
    {
     "name": "stdout",
     "output_type": "stream",
     "text": [
      "\n",
      "Top 10 configuraties op mean_score:\n",
      " pop  mut  n_iters  mean_score  std_score  best_score  mean_time_sec\n",
      " 200 0.05      400       855.7  15.588778         878      24.022261\n",
      " 200 0.01      400       851.2  11.805084         872      23.614704\n",
      " 200 0.10      400       847.5  10.072239         864      24.780574\n",
      " 200 0.30      400       845.7  12.410077         869      24.673945\n",
      " 200 0.01      200       842.8  21.747644         886      11.319184\n",
      " 100 0.05      400       839.4  14.994666         862      12.607597\n",
      " 100 0.01      400       838.6  19.137398         870      12.548905\n",
      " 200 0.10      100       838.2  11.205356         854       5.937580\n",
      " 100 0.30      200       837.9  17.351945         863       5.604648\n",
      " 200 0.30      200       837.8  13.614698         859      11.910885\n",
      "\n",
      "Beste configuratie (op basis van mean_score):\n",
      "pop              200.000000\n",
      "mut                0.050000\n",
      "n_iters          400.000000\n",
      "mean_score       855.700000\n",
      "std_score         15.588778\n",
      "best_score       878.000000\n",
      "mean_time_sec     24.022261\n",
      "\n",
      "Beste individuele run gevonden over alle tests:\n",
      "score=886, pop=200, mut=0.01, n_iters=200\n",
      "\n",
      "Schedule voor beste individuele run:\n",
      "\n",
      "Beste schedule per tijdslot:\n",
      "Slot 1: job_id=50, profit=90.0, deadline=1\n",
      "Slot 2: job_id=95, profit=100.0, deadline=6\n",
      "Slot 3: job_id=133, profit=92.0, deadline=5\n",
      "Slot 4: job_id=138, profit=82.0, deadline=6\n",
      "Slot 5: job_id=178, profit=90.0, deadline=5\n",
      "Slot 6: job_id=155, profit=99.0, deadline=6\n",
      "Slot 7: job_id=68, profit=90.0, deadline=8\n",
      "Slot 8: job_id=72, profit=64.0, deadline=8\n",
      "Slot 9: job_id=147, profit=79.0, deadline=9\n",
      "Slot 10: job_id=23, profit=100.0, deadline=10\n",
      "\n",
      ">>> Totale profit = 886.0\n"
     ]
    }
   ],
   "source": [
    "pop_sizes = [20, 50, 100, 200]\n",
    "mutation_rates = [0.01, 0.05, 0.1, 0.3]\n",
    "n_iters_list = [50, 100, 200, 400]\n",
    "repeats = 10                         # herhalingen per combinatie\n",
    "\n",
    "records = []         # lijst om samenvatting van resultaten op te slaan\n",
    "best_overall = {'score': -float('inf')}  # beste run over alle configuraties\n",
    "\n",
    "for n_iters in n_iters_list:\n",
    "    for p in pop_sizes:\n",
    "        for m in mutation_rates:\n",
    "            scores = []  # scores van alle herhalingen\n",
    "            times = []   # rekentijd van alle herhalingen\n",
    "            for r in range(repeats):\n",
    "                t0 = time.time()\n",
    "                # Run GA met huidige parameters\n",
    "                score, ind, history = run_ga(df, n_pop=p, mutation_rate=m, n_iters=n_iters, print_every=0)\n",
    "                t1 = time.time()\n",
    "                scores.append(score)\n",
    "                times.append(t1 - t0)\n",
    "\n",
    "                # Update beste oplossing als deze run beter is\n",
    "                if score > best_overall['score']:\n",
    "                    best_overall = {\n",
    "                        'score': score,\n",
    "                        'individual': ind,\n",
    "                        'pop': p,\n",
    "                        'mut': m,\n",
    "                        'n_iters': n_iters,\n",
    "                        'history': history\n",
    "                    }\n",
    "\n",
    "            # Voeg samenvatting van deze parametercombinatie toe aan records\n",
    "            records.append({\n",
    "                'pop': p,\n",
    "                'mut': m,\n",
    "                'n_iters': n_iters,\n",
    "                'mean_score': np.mean(scores),\n",
    "                'std_score': np.std(scores),\n",
    "                'best_score': np.max(scores),\n",
    "                'mean_time_sec': np.mean(times)\n",
    "            })\n",
    "\n",
    "# Zet samengevatte resultaten om in DataFrame\n",
    "res_df = pd.DataFrame(records)\n",
    "\n",
    "# Output van topconfiguraties\n",
    "print(\"\\nTop 10 configuraties op mean_score:\")\n",
    "print(res_df.sort_values(['mean_score'], ascending=False).head(10).to_string(index=False))\n",
    "\n",
    "best_row = res_df.loc[res_df['mean_score'].idxmax()]\n",
    "print(\"\\nBeste configuratie (op basis van mean_score):\")\n",
    "print(best_row.to_string())\n",
    "\n",
    "print(\"\\nBeste individuele run gevonden over alle tests:\")\n",
    "print(f\"score={best_overall['score']}, pop={best_overall['pop']}, mut={best_overall['mut']}, n_iters={best_overall['n_iters']}\")\n",
    "\n",
    "# Toon schedule van beste individuele run\n",
    "print(\"\\nSchedule voor beste individuele run:\")\n",
    "if best_overall.get('individual') is not None:\n",
    "    print_schedule(best_overall['individual'], df)"
   ]
  },
  {
   "cell_type": "markdown",
   "id": "7e6383b8",
   "metadata": {},
   "source": [
    "## Visualisatie van de voortgang\n",
    "\n",
    "Om de werking van het genetisch algoritme inzichtelijk te maken, wordt de voortgang van de beste individuele run geplot.  \n",
    "De grafiek toont de behaalde winst (*profit*) per iteratie.  \n",
    "Dit maakt zichtbaar hoe de oplossing zich gedurende de iteraties verbetert.\n"
   ]
  },
  {
   "cell_type": "code",
   "execution_count": 303,
   "id": "bda95014",
   "metadata": {},
   "outputs": [
    {
     "data": {
      "image/png": "[encoded data removed]",
      "text/plain": [
       "<Figure size 1000x500 with 1 Axes>"
      ]
     },
     "metadata": {},
     "output_type": "display_data"
    }
   ],
   "source": [
    "best_history = best_overall['history']\n",
    "\n",
    "plt.figure(figsize=(10,5))\n",
    "plt.plot(best_history, label=\"Beste individuele run\")\n",
    "plt.xlabel(\"Iteratie\")\n",
    "plt.ylabel(\"Profit\")\n",
    "plt.title(\"GA progressie: profit van beste individuele run\")\n",
    "plt.legend()\n",
    "plt.grid(True)\n",
    "plt.show()"
   ]
  },
  {
   "cell_type": "markdown",
   "id": "0bc8f71e",
   "metadata": {},
   "source": [
    "## Uitvoering met gekozen parameters\n",
    "\n",
    "Na het testen van verschillende configuraties wordt hier het algoritme uitgevoerd met de gekozen instellingen:  \n",
    "\n",
    "- Populatiegrootte = 100  \n",
    "- Mutatiekans = 0.05  \n",
    "- Aantal iteraties = 400  \n",
    "\n",
    "De functie `run_ga` retourneert:\n",
    "- de beste behaalde score,  \n",
    "- de bijbehorende oplossing (*ind*),  \n",
    "- de voortgangsgeschiedenis (*history*).\n"
   ]
  },
  {
   "cell_type": "code",
   "execution_count": 304,
   "id": "18ff82d1",
   "metadata": {},
   "outputs": [
    {
     "name": "stdout",
     "output_type": "stream",
     "text": [
      "Iter 1/200 best score: 737\n",
      "Iter 40/200 best score: 826\n",
      "Iter 80/200 best score: 826\n",
      "Iter 120/200 best score: 826\n",
      "Iter 160/200 best score: 826\n",
      "Iter 200/200 best score: 826\n"
     ]
    }
   ],
   "source": [
    "# GA parameters\n",
    "N_POP = 200\n",
    "N_JOBS = len(df)\n",
    "N_ITERS = 200\n",
    "MUTATION_RATE = 0.01\n",
    "\n",
    "score, ind, history = run_ga(df, n_pop=N_POP, mutation_rate=MUTATION_RATE, n_iters=N_ITERS, print_every=40)"
   ]
  },
  {
   "cell_type": "markdown",
   "id": "a0134eb0",
   "metadata": {},
   "source": [
    "## Plot voortgang van de GA\n",
    "\n",
    "De grafiek toont de evolutie van de winst (*profit*) tijdens de iteraties van het algoritme.  \n",
    "Hiermee is te zien hoe snel de oplossing verbetert en of het algoritme convergeert naar een stabiele, hoge winst.\n"
   ]
  },
  {
   "cell_type": "code",
   "execution_count": 305,
   "id": "2bfedc1f",
   "metadata": {},
   "outputs": [
    {
     "data": {
      "image/png": "[encoded data removed]",
      "text/plain": [
       "<Figure size 1000x500 with 1 Axes>"
      ]
     },
     "metadata": {},
     "output_type": "display_data"
    }
   ],
   "source": [
    "plt.figure(figsize=(10,5))\n",
    "plt.plot(history, label=\"Beste profit\")\n",
    "plt.xlabel(\"Iteratie\")\n",
    "plt.ylabel(\"Profit\")\n",
    "plt.title(\"GA progressie: profit\")\n",
    "plt.legend()\n",
    "plt.grid(True)\n",
    "plt.show()"
   ]
  },
  {
   "cell_type": "markdown",
   "id": "af332acd",
   "metadata": {},
   "source": [
    "## Beste schedule tonen\n",
    "\n",
    "Hier wordt het schema van de beste gevonden oplossing weergegeven.  \n",
    "Voor elk tijdslot wordt getoond welke job gepland is, inclusief:\n",
    "- job-ID  \n",
    "- winst (*profit*)  \n",
    "- deadline  \n",
    "\n",
    "Daarnaast wordt de totale behaalde winst van deze oplossing weergegeven.\n"
   ]
  },
  {
   "cell_type": "code",
   "execution_count": 306,
   "id": "5294bb2e",
   "metadata": {},
   "outputs": [
    {
     "name": "stdout",
     "output_type": "stream",
     "text": [
      "\n",
      "Beste schedule per tijdslot:\n",
      "Slot 1: job_id=12, profit=81.0, deadline=2\n",
      "Slot 2: job_id=36, profit=46.0, deadline=3\n",
      "Slot 3: job_id=42, profit=94.0, deadline=3\n",
      "Slot 4: job_id=178, profit=90.0, deadline=5\n",
      "Slot 5: job_id=8, profit=78.0, deadline=6\n",
      "Slot 6: job_id=48, profit=89.0, deadline=6\n",
      "Slot 7: job_id=162, profit=97.0, deadline=8\n",
      "Slot 8: job_id=29, profit=87.0, deadline=8\n",
      "Slot 9: job_id=191, profit=72.0, deadline=9\n",
      "Slot 10: job_id=31, profit=92.0, deadline=10\n",
      "\n",
      ">>> Totale profit = 826.0\n"
     ]
    }
   ],
   "source": [
    "print_schedule(ind, df)"
   ]
  },
  {
   "cell_type": "markdown",
   "id": "a0ea8f8e",
   "metadata": {},
   "source": [
    "## Conclusies en vervolgstappen\n",
    "\n",
    "- Samenvatting van observaties (vul in na experimenten).\n",
    "- Mogelijke verbeteringen:\n",
    "  - Elitisme toevoegen (behouden beste individuen).\n",
    "  - Extra crossover- en mutatie-varianten (PMX, inversion, scramble).\n",
    "  - Alternatieve selectie (tournament selection).\n",
    "  - Parallelisatie of vectorisatie van fitness-evaluatie voor grotere datasets.\n",
    "- Referenties: voeg korte literatuurtips toe (bijv. Goldberg 1989; Michalewicz 1996)."
   ]
  }
 ],
 "metadata": {
  "kernelspec": {
   "display_name": ".venv",
   "language": "python",
   "name": "python3"
  },
  "language_info": {
   "codemirror_mode": {
    "name": "ipython",
    "version": 3
   },
   "file_extension": ".py",
   "mimetype": "text/x-python",
   "name": "python",
   "nbconvert_exporter": "python",
   "pygments_lexer": "ipython3",
   "version": "3.12.1"
  }
 },
 "nbformat": 4,
 "nbformat_minor": 5
}
